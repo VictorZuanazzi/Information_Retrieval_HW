{
 "cells": [
  {
   "cell_type": "markdown",
   "metadata": {},
   "source": [
    "#Step 1: Simulate Rankings of Relevance for E and P\n",
    "\n",
    "In the first step generate pairs of rankings, for the production P and experimental E, respectively. Assume a binary relevance. Make no assumption regarding the documents returned by the two algorithms (they can be distinct but they may also overlap). Further, assume that the algorithms are used on mobiles, so we are interested only in rankings of length 3. \n",
    "\n"
   ]
  },
  {
   "cell_type": "code",
   "execution_count": null,
   "metadata": {},
   "outputs": [],
   "source": [
    "import itertools\n",
    "\n",
    "def produce_rank(labels = [0, 1] , n=3):\n",
    "    return list(map(list, itertools.product(labels, repeat=n)))\n",
    "\n",
    "\n",
    "def creat_rank_pairs(labels = [0, 1] , n=3):\n",
    "    rank_e = produce_rank(labels = [0, 1] , n=3)\n",
    "    rank_p = produce_rank(labels = [0, 1] , n=3)\n",
    "\n",
    "    rank_pairs = []\n",
    "\n",
    "    for re in rank_e:\n",
    "        for rp in rank_p:\n",
    "            rank_pairs.append([rp, re])\n",
    "            \n",
    "    return rank_pair\n",
    "            \n",
    "rank_pair = creat_rank_pairs\n",
    "print(rank_pairs)               "
   ]
  },
  {
   "cell_type": "code",
   "execution_count": null,
   "metadata": {
    "collapsed": true
   },
   "outputs": [],
   "source": [
    "from random import random\n",
    "from copy import copy\n",
    "\n",
    "def teamdraft_interleaving(A, B):\n",
    "    newl = []\n",
    "    \n",
    "    for idx in range(3):\n",
    "        \n",
    "        idx_a = idx\n",
    "        idx_b = idx\n",
    "        \n",
    "        entry_a = copy(A[idx_a])\n",
    "        entry_b = copy(B[idx_b])\n",
    "        \n",
    "        while entry_a in newl:\n",
    "            idx_a += 1\n",
    "            entry_a = copy(A[idx_a])\n",
    "            \n",
    "        while entry_b in newl:\n",
    "            idx_b += 1\n",
    "            entry_b = copy(B[idx_b])\n",
    "            \n",
    "        coin_toss = random()\n",
    "        \n",
    "        if coin_toss < 0.5:\n",
    "            newl.append(entry_a)\n",
    "            newl.append(entry_b)\n",
    "        else:\n",
    "            newl.append(entry_b)\n",
    "            newl.append(entry_a)\n",
    "            \n",
    "        if len(newl) >= 3:\n",
    "            \n",
    "            source = []\n",
    "            for entry in newl[:3]:\n",
    "                if entry in A and entry in B:\n",
    "                    source.append(\"AB\")\n",
    "                elif entry in A:\n",
    "                    source.append(\"A\")\n",
    "                else:\n",
    "                    source.append(\"B\")\n",
    "            \n",
    "            return newl[:3], source        "
   ]
  },
  {
   "cell_type": "markdown",
   "metadata": {},
   "source": []
  }
 ],
 "metadata": {
  "kernelspec": {
   "display_name": "Python [default]",
   "language": "python",
   "name": "python3"
  },
  "language_info": {
   "codemirror_mode": {
    "name": "ipython",
    "version": 3
   },
   "file_extension": ".py",
   "mimetype": "text/x-python",
   "name": "python",
   "nbconvert_exporter": "python",
   "pygments_lexer": "ipython3",
   "version": "3.6.8"
  }
 },
 "nbformat": 4,
 "nbformat_minor": 2
}
