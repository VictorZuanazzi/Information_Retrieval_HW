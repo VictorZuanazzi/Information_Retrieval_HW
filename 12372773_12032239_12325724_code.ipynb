{
 "cells": [
  {
   "cell_type": "markdown",
   "metadata": {},
   "source": [
    "#Step 1: Simulate Rankings of Relevance for E and P\n",
    "\n",
    "In the first step generate pairs of rankings, for the production P and experimental E, respectively. Assume a binary relevance. Make no assumption regarding the documents returned by the two algorithms (they can be distinct but they may also overlap). Further, assume that the algorithms are used on mobiles, so we are interested only in rankings of length 3. \n",
    "\n"
   ]
  },
  {
   "cell_type": "code",
   "execution_count": 4,
   "metadata": {},
   "outputs": [
    {
     "name": "stdout",
     "output_type": "stream",
     "text": [
      "[[[0, 0, 0], [0, 0, 0]], [[0, 0, 1], [0, 0, 0]], [[0, 1, 0], [0, 0, 0]], [[0, 1, 1], [0, 0, 0]], [[1, 0, 0], [0, 0, 0]], [[1, 0, 1], [0, 0, 0]], [[1, 1, 0], [0, 0, 0]], [[1, 1, 1], [0, 0, 0]], [[0, 0, 0], [0, 0, 1]], [[0, 0, 1], [0, 0, 1]], [[0, 1, 0], [0, 0, 1]], [[0, 1, 1], [0, 0, 1]], [[1, 0, 0], [0, 0, 1]], [[1, 0, 1], [0, 0, 1]], [[1, 1, 0], [0, 0, 1]], [[1, 1, 1], [0, 0, 1]], [[0, 0, 0], [0, 1, 0]], [[0, 0, 1], [0, 1, 0]], [[0, 1, 0], [0, 1, 0]], [[0, 1, 1], [0, 1, 0]], [[1, 0, 0], [0, 1, 0]], [[1, 0, 1], [0, 1, 0]], [[1, 1, 0], [0, 1, 0]], [[1, 1, 1], [0, 1, 0]], [[0, 0, 0], [0, 1, 1]], [[0, 0, 1], [0, 1, 1]], [[0, 1, 0], [0, 1, 1]], [[0, 1, 1], [0, 1, 1]], [[1, 0, 0], [0, 1, 1]], [[1, 0, 1], [0, 1, 1]], [[1, 1, 0], [0, 1, 1]], [[1, 1, 1], [0, 1, 1]], [[0, 0, 0], [1, 0, 0]], [[0, 0, 1], [1, 0, 0]], [[0, 1, 0], [1, 0, 0]], [[0, 1, 1], [1, 0, 0]], [[1, 0, 0], [1, 0, 0]], [[1, 0, 1], [1, 0, 0]], [[1, 1, 0], [1, 0, 0]], [[1, 1, 1], [1, 0, 0]], [[0, 0, 0], [1, 0, 1]], [[0, 0, 1], [1, 0, 1]], [[0, 1, 0], [1, 0, 1]], [[0, 1, 1], [1, 0, 1]], [[1, 0, 0], [1, 0, 1]], [[1, 0, 1], [1, 0, 1]], [[1, 1, 0], [1, 0, 1]], [[1, 1, 1], [1, 0, 1]], [[0, 0, 0], [1, 1, 0]], [[0, 0, 1], [1, 1, 0]], [[0, 1, 0], [1, 1, 0]], [[0, 1, 1], [1, 1, 0]], [[1, 0, 0], [1, 1, 0]], [[1, 0, 1], [1, 1, 0]], [[1, 1, 0], [1, 1, 0]], [[1, 1, 1], [1, 1, 0]], [[0, 0, 0], [1, 1, 1]], [[0, 0, 1], [1, 1, 1]], [[0, 1, 0], [1, 1, 1]], [[0, 1, 1], [1, 1, 1]], [[1, 0, 0], [1, 1, 1]], [[1, 0, 1], [1, 1, 1]], [[1, 1, 0], [1, 1, 1]], [[1, 1, 1], [1, 1, 1]]]\n"
     ]
    }
   ],
   "source": [
    "import itertools\n",
    "\n",
    "def produce_rank(labels = [0, 1] , n=3):\n",
    "    return list(map(list, itertools.product(labels, repeat=n)))\n",
    "\n",
    "\n",
    "def creat_rank_pairs(labels = [0, 1] , n=3):\n",
    "    rank_e = produce_rank(labels = [0, 1] , n=3)\n",
    "    rank_p = produce_rank(labels = [0, 1] , n=3)\n",
    "\n",
    "    rank_pairs = []\n",
    "\n",
    "    for re in rank_e:\n",
    "        for rp in rank_p:\n",
    "            rank_pairs.append([rp, re])\n",
    "            \n",
    "    return rank_pair\n",
    "            \n",
    "rank_pair = creat_rank_pairs\n",
    "print(rank_pairs)               "
   ]
  },
  {
   "cell_type": "markdown",
   "metadata": {},
   "source": []
  }
 ],
 "metadata": {
  "kernelspec": {
   "display_name": "Python 3",
   "language": "python",
   "name": "python3"
  },
  "language_info": {
   "codemirror_mode": {
    "name": "ipython",
    "version": 3
   },
   "file_extension": ".py",
   "mimetype": "text/x-python",
   "name": "python",
   "nbconvert_exporter": "python",
   "pygments_lexer": "ipython3",
   "version": "3.7.0"
  }
 },
 "nbformat": 4,
 "nbformat_minor": 2
}
